{
 "cells": [
  {
   "cell_type": "code",
   "execution_count": 1,
   "metadata": {},
   "outputs": [],
   "source": [
    "from sklearn.utils import shuffle\n",
    "from collections import defaultdict\n",
    "from pathlib import Path\n",
    "from nltk.corpus import stopwords\n",
    "from sklearn.model_selection import train_test_split\n",
    "from nltk.stem import PorterStemmer\n",
    "from nltk.tokenize import word_tokenize\n",
    "from collections import Counter \n",
    "from functools import reduce\n",
    "from sklearn.feature_extraction.text import TfidfVectorizer\n",
    "from sklearn.naive_bayes import MultinomialNB\n",
    "from sklearn.tree import DecisionTreeClassifier\n",
    "from sklearn.ensemble import RandomForestClassifier\n",
    "from sklearn.svm import SVC \n",
    "from sklearn.metrics import classification_report,confusion_matrix,accuracy_score\n",
    "from sklearn.model_selection import RandomizedSearchCV\n",
    "from sklearn import metrics\n",
    "import pickle\n",
    "import operator \n",
    "import matplotlib.pyplot as plt\n",
    "import string\n",
    "import pandas as pd\n",
    "import numpy as np"
   ]
  },
  {
   "cell_type": "code",
   "execution_count": 2,
   "metadata": {},
   "outputs": [],
   "source": [
    "def import_dataset(dir_path,label):\n",
    "    my_dir_path = dir_path\n",
    "    mail = defaultdict(list)\n",
    "    if label == 0:\n",
    "        for file in Path(my_dir_path).iterdir():\n",
    "            with open(file,\"r\") as file_open:\n",
    "                mail[\"file_name\"] = file.name\n",
    "                mail[\"text\"].append(file_open.read())\n",
    "    if label == 1:\n",
    "        for file in Path(my_dir_path).iterdir():\n",
    "            with open(file,\"r\",encoding = \"latin-1\") as file_open:\n",
    "                mail[\"file_name\"] = file.name\n",
    "                mail[\"text\"].append(file_open.read())\n",
    "    df = pd.DataFrame(mail)\n",
    "    df.drop(\"file_name\", axis=1, inplace=True)\n",
    "    df.rename(columns={'text': 'mail'}, inplace=True)\n",
    "    if label == 0:\n",
    "        df['status'] = 0\n",
    "    if label == 1:\n",
    "        df['status'] = 1\n",
    "    return df"
   ]
  },
  {
   "cell_type": "code",
   "execution_count": 3,
   "metadata": {},
   "outputs": [],
   "source": [
    "ham = import_dataset(\"D:/Sem-2/Machine Learning/Assig/enron1/ham\",0)\n",
    "spam = import_dataset(\"D:/Sem-2/Machine Learning/Assig/enron1/spam\",1)"
   ]
  },
  {
   "cell_type": "code",
   "execution_count": 4,
   "metadata": {},
   "outputs": [
    {
     "name": "stdout",
     "output_type": "stream",
     "text": [
      "The dimensions of the final dataset (5172, 2)\n"
     ]
    }
   ],
   "source": [
    "all_mail = pd.concat([ham, spam])\n",
    "print(\"The dimensions of the final dataset\",all_mail.shape)"
   ]
  },
  {
   "cell_type": "code",
   "execution_count": 5,
   "metadata": {},
   "outputs": [
    {
     "data": {
      "text/html": [
       "<div>\n",
       "<style scoped>\n",
       "    .dataframe tbody tr th:only-of-type {\n",
       "        vertical-align: middle;\n",
       "    }\n",
       "\n",
       "    .dataframe tbody tr th {\n",
       "        vertical-align: top;\n",
       "    }\n",
       "\n",
       "    .dataframe thead tr th {\n",
       "        text-align: left;\n",
       "    }\n",
       "\n",
       "    .dataframe thead tr:last-of-type th {\n",
       "        text-align: right;\n",
       "    }\n",
       "</style>\n",
       "<table border=\"1\" class=\"dataframe\">\n",
       "  <thead>\n",
       "    <tr>\n",
       "      <th></th>\n",
       "      <th colspan=\"4\" halign=\"left\">mail</th>\n",
       "    </tr>\n",
       "    <tr>\n",
       "      <th></th>\n",
       "      <th>count</th>\n",
       "      <th>unique</th>\n",
       "      <th>top</th>\n",
       "      <th>freq</th>\n",
       "    </tr>\n",
       "    <tr>\n",
       "      <th>status</th>\n",
       "      <th></th>\n",
       "      <th></th>\n",
       "      <th></th>\n",
       "      <th></th>\n",
       "    </tr>\n",
       "  </thead>\n",
       "  <tbody>\n",
       "    <tr>\n",
       "      <th>0</th>\n",
       "      <td>3672</td>\n",
       "      <td>3531</td>\n",
       "      <td>Subject: calpine daily gas nomination\\n&gt;\\nrick...</td>\n",
       "      <td>20</td>\n",
       "    </tr>\n",
       "    <tr>\n",
       "      <th>1</th>\n",
       "      <td>1500</td>\n",
       "      <td>1463</td>\n",
       "      <td>Subject: \\n</td>\n",
       "      <td>16</td>\n",
       "    </tr>\n",
       "  </tbody>\n",
       "</table>\n",
       "</div>"
      ],
      "text/plain": [
       "        mail                                                               \n",
       "       count unique                                                top freq\n",
       "status                                                                     \n",
       "0       3672   3531  Subject: calpine daily gas nomination\\n>\\nrick...   20\n",
       "1       1500   1463                                        Subject: \\n   16"
      ]
     },
     "execution_count": 5,
     "metadata": {},
     "output_type": "execute_result"
    }
   ],
   "source": [
    "all_mail.groupby('status').describe()"
   ]
  },
  {
   "cell_type": "code",
   "execution_count": 5,
   "metadata": {},
   "outputs": [
    {
     "name": "stdout",
     "output_type": "stream",
     "text": [
      "The dimensions of the final dataset (4994, 2)\n"
     ]
    }
   ],
   "source": [
    "all_mail.drop_duplicates(inplace = True)\n",
    "print(\"The dimensions of the final dataset\",all_mail.shape)"
   ]
  },
  {
   "cell_type": "code",
   "execution_count": 6,
   "metadata": {},
   "outputs": [
    {
     "data": {
      "text/plain": [
       "mail      0\n",
       "status    0\n",
       "dtype: int64"
      ]
     },
     "execution_count": 6,
     "metadata": {},
     "output_type": "execute_result"
    }
   ],
   "source": [
    "all_mail.isnull().sum()"
   ]
  },
  {
   "cell_type": "code",
   "execution_count": 7,
   "metadata": {},
   "outputs": [
    {
     "data": {
      "text/html": [
       "<div>\n",
       "<style scoped>\n",
       "    .dataframe tbody tr th:only-of-type {\n",
       "        vertical-align: middle;\n",
       "    }\n",
       "\n",
       "    .dataframe tbody tr th {\n",
       "        vertical-align: top;\n",
       "    }\n",
       "\n",
       "    .dataframe thead th {\n",
       "        text-align: right;\n",
       "    }\n",
       "</style>\n",
       "<table border=\"1\" class=\"dataframe\">\n",
       "  <thead>\n",
       "    <tr style=\"text-align: right;\">\n",
       "      <th></th>\n",
       "      <th>mail</th>\n",
       "      <th>status</th>\n",
       "    </tr>\n",
       "  </thead>\n",
       "  <tbody>\n",
       "    <tr>\n",
       "      <th>3283</th>\n",
       "      <td>Subject: re : fw : cowtrap allocation - 4 / 01...</td>\n",
       "      <td>0</td>\n",
       "    </tr>\n",
       "    <tr>\n",
       "      <th>347</th>\n",
       "      <td>Subject: oh boy , i want this ! ydx 6 bd\\npali...</td>\n",
       "      <td>1</td>\n",
       "    </tr>\n",
       "    <tr>\n",
       "      <th>142</th>\n",
       "      <td>Subject: suprise your spouse ! vi [ agra !\\n</td>\n",
       "      <td>1</td>\n",
       "    </tr>\n",
       "    <tr>\n",
       "      <th>497</th>\n",
       "      <td>Subject: re : meter 8740 dec 99\\nrobert and i ...</td>\n",
       "      <td>0</td>\n",
       "    </tr>\n",
       "    <tr>\n",
       "      <th>384</th>\n",
       "      <td>Subject: aquila header ( meter # 980072 ) - ja...</td>\n",
       "      <td>0</td>\n",
       "    </tr>\n",
       "  </tbody>\n",
       "</table>\n",
       "</div>"
      ],
      "text/plain": [
       "                                                   mail  status\n",
       "3283  Subject: re : fw : cowtrap allocation - 4 / 01...       0\n",
       "347   Subject: oh boy , i want this ! ydx 6 bd\\npali...       1\n",
       "142        Subject: suprise your spouse ! vi [ agra !\\n       1\n",
       "497   Subject: re : meter 8740 dec 99\\nrobert and i ...       0\n",
       "384   Subject: aquila header ( meter # 980072 ) - ja...       0"
      ]
     },
     "execution_count": 7,
     "metadata": {},
     "output_type": "execute_result"
    }
   ],
   "source": [
    "#to shuffle\n",
    "all_mail = shuffle(all_mail)\n",
    "all_mail.head()"
   ]
  },
  {
   "cell_type": "code",
   "execution_count": 8,
   "metadata": {},
   "outputs": [
    {
     "data": {
      "text/html": [
       "<div>\n",
       "<style scoped>\n",
       "    .dataframe tbody tr th:only-of-type {\n",
       "        vertical-align: middle;\n",
       "    }\n",
       "\n",
       "    .dataframe tbody tr th {\n",
       "        vertical-align: top;\n",
       "    }\n",
       "\n",
       "    .dataframe thead tr th {\n",
       "        text-align: left;\n",
       "    }\n",
       "\n",
       "    .dataframe thead tr:last-of-type th {\n",
       "        text-align: right;\n",
       "    }\n",
       "</style>\n",
       "<table border=\"1\" class=\"dataframe\">\n",
       "  <thead>\n",
       "    <tr>\n",
       "      <th></th>\n",
       "      <th colspan=\"4\" halign=\"left\">mail</th>\n",
       "    </tr>\n",
       "    <tr>\n",
       "      <th></th>\n",
       "      <th>count</th>\n",
       "      <th>unique</th>\n",
       "      <th>top</th>\n",
       "      <th>freq</th>\n",
       "    </tr>\n",
       "    <tr>\n",
       "      <th>status</th>\n",
       "      <th></th>\n",
       "      <th></th>\n",
       "      <th></th>\n",
       "      <th></th>\n",
       "    </tr>\n",
       "  </thead>\n",
       "  <tbody>\n",
       "    <tr>\n",
       "      <th>0</th>\n",
       "      <td>3531</td>\n",
       "      <td>3531</td>\n",
       "      <td>Subject: 24 x 5 products\\nplease make sure thi...</td>\n",
       "      <td>1</td>\n",
       "    </tr>\n",
       "    <tr>\n",
       "      <th>1</th>\n",
       "      <td>1463</td>\n",
       "      <td>1463</td>\n",
       "      <td>Subject: $ 55486\\nhello ,\\ni sent you an email...</td>\n",
       "      <td>1</td>\n",
       "    </tr>\n",
       "  </tbody>\n",
       "</table>\n",
       "</div>"
      ],
      "text/plain": [
       "        mail                                                               \n",
       "       count unique                                                top freq\n",
       "status                                                                     \n",
       "0       3531   3531  Subject: 24 x 5 products\\nplease make sure thi...    1\n",
       "1       1463   1463  Subject: $ 55486\\nhello ,\\ni sent you an email...    1"
      ]
     },
     "execution_count": 8,
     "metadata": {},
     "output_type": "execute_result"
    }
   ],
   "source": [
    "all_mail.groupby('status').describe()"
   ]
  },
  {
   "cell_type": "code",
   "execution_count": 9,
   "metadata": {},
   "outputs": [],
   "source": [
    "def process_message(mail):\n",
    "    clean_mail = \" \"\n",
    "    mail = mail.lower()\n",
    "    nopunc =[char for char in mail if char not in string.punctuation]\n",
    "    nopunc=''.join(nopunc)\n",
    "    clean_word = [word for word in nopunc.split() if word.lower() not in stopwords.words('english')]\n",
    "    clean_word = [w for w in clean_word if len(w) > 2]\n",
    "    ps = PorterStemmer()\n",
    "    clean_word = [ps.stem(word) for word in clean_word]\n",
    "    for i in range(len(clean_word)):\n",
    "        clean_mail = clean_mail + \" \"+ clean_word[i]\n",
    "    return clean_mail\n",
    "    #stemmer = PorterStemmer()\n",
    "    #clean_word = [stemmer.stem(word) for word in clean_word]\n",
    "    return clean_mail"
   ]
  },
  {
   "cell_type": "code",
   "execution_count": 10,
   "metadata": {},
   "outputs": [],
   "source": [
    "all_mail[\"mail\"]=all_mail['mail'].apply(process_message)"
   ]
  },
  {
   "cell_type": "code",
   "execution_count": 11,
   "metadata": {},
   "outputs": [
    {
     "data": {
      "text/html": [
       "<div>\n",
       "<style scoped>\n",
       "    .dataframe tbody tr th:only-of-type {\n",
       "        vertical-align: middle;\n",
       "    }\n",
       "\n",
       "    .dataframe tbody tr th {\n",
       "        vertical-align: top;\n",
       "    }\n",
       "\n",
       "    .dataframe thead th {\n",
       "        text-align: right;\n",
       "    }\n",
       "</style>\n",
       "<table border=\"1\" class=\"dataframe\">\n",
       "  <thead>\n",
       "    <tr style=\"text-align: right;\">\n",
       "      <th></th>\n",
       "      <th>mail</th>\n",
       "      <th>status</th>\n",
       "    </tr>\n",
       "  </thead>\n",
       "  <tbody>\n",
       "    <tr>\n",
       "      <th>3283</th>\n",
       "      <td>subject cowtrap alloc believ daren farmer en...</td>\n",
       "      <td>0</td>\n",
       "    </tr>\n",
       "    <tr>\n",
       "      <th>347</th>\n",
       "      <td>subject boy want ydx paliourg new super viag...</td>\n",
       "      <td>1</td>\n",
       "    </tr>\n",
       "    <tr>\n",
       "      <th>142</th>\n",
       "      <td>subject supris spous agra</td>\n",
       "      <td>1</td>\n",
       "    </tr>\n",
       "    <tr>\n",
       "      <th>497</th>\n",
       "      <td>subject meter 8740 dec robert put head toget...</td>\n",
       "      <td>0</td>\n",
       "    </tr>\n",
       "    <tr>\n",
       "      <th>384</th>\n",
       "      <td>subject aquila header meter 980072 januari v...</td>\n",
       "      <td>0</td>\n",
       "    </tr>\n",
       "  </tbody>\n",
       "</table>\n",
       "</div>"
      ],
      "text/plain": [
       "                                                   mail  status\n",
       "3283    subject cowtrap alloc believ daren farmer en...       0\n",
       "347     subject boy want ydx paliourg new super viag...       1\n",
       "142                           subject supris spous agra       1\n",
       "497     subject meter 8740 dec robert put head toget...       0\n",
       "384     subject aquila header meter 980072 januari v...       0"
      ]
     },
     "execution_count": 11,
     "metadata": {},
     "output_type": "execute_result"
    }
   ],
   "source": [
    "all_mail.head()"
   ]
  },
  {
   "cell_type": "code",
   "execution_count": 12,
   "metadata": {},
   "outputs": [],
   "source": [
    "#divide into training and test\n",
    "mail_train,mail_test,status_train,status_test = train_test_split(all_mail['mail'],all_mail['status'],test_size=0.3)"
   ]
  },
  {
   "cell_type": "code",
   "execution_count": 13,
   "metadata": {},
   "outputs": [],
   "source": [
    "def combine_Dataset(mail,status):\n",
    "    dataset = pd.concat([mail,status],axis = 1)\n",
    "    return dataset"
   ]
  },
  {
   "cell_type": "code",
   "execution_count": 14,
   "metadata": {},
   "outputs": [],
   "source": [
    "#combine train Dataset\n",
    "train_data = combine_Dataset(mail_train,status_train)\n",
    "test_data = combine_Dataset(mail_test,status_test)"
   ]
  },
  {
   "cell_type": "code",
   "execution_count": 15,
   "metadata": {},
   "outputs": [
    {
     "data": {
      "text/plain": [
       "0    2460\n",
       "1    1035\n",
       "Name: status, dtype: int64"
      ]
     },
     "execution_count": 15,
     "metadata": {},
     "output_type": "execute_result"
    }
   ],
   "source": [
    "train_data['status'].value_counts()"
   ]
  },
  {
   "cell_type": "code",
   "execution_count": 16,
   "metadata": {},
   "outputs": [
    {
     "data": {
      "text/plain": [
       "0    1071\n",
       "1     428\n",
       "Name: status, dtype: int64"
      ]
     },
     "execution_count": 16,
     "metadata": {},
     "output_type": "execute_result"
    }
   ],
   "source": [
    "#total num of ham and spam in test.\n",
    "test_data['status'].value_counts()"
   ]
  },
  {
   "cell_type": "code",
   "execution_count": 17,
   "metadata": {},
   "outputs": [
    {
     "data": {
      "text/html": [
       "<div>\n",
       "<style scoped>\n",
       "    .dataframe tbody tr th:only-of-type {\n",
       "        vertical-align: middle;\n",
       "    }\n",
       "\n",
       "    .dataframe tbody tr th {\n",
       "        vertical-align: top;\n",
       "    }\n",
       "\n",
       "    .dataframe thead th {\n",
       "        text-align: right;\n",
       "    }\n",
       "</style>\n",
       "<table border=\"1\" class=\"dataframe\">\n",
       "  <thead>\n",
       "    <tr style=\"text-align: right;\">\n",
       "      <th></th>\n",
       "      <th>mail</th>\n",
       "      <th>status</th>\n",
       "      <th>length</th>\n",
       "    </tr>\n",
       "  </thead>\n",
       "  <tbody>\n",
       "    <tr>\n",
       "      <th>262</th>\n",
       "      <td>subject flow month date attach month date fl...</td>\n",
       "      <td>0</td>\n",
       "      <td>54</td>\n",
       "    </tr>\n",
       "    <tr>\n",
       "      <th>526</th>\n",
       "      <td>subject fyi daren hey sorri call last thur f...</td>\n",
       "      <td>0</td>\n",
       "      <td>215</td>\n",
       "    </tr>\n",
       "    <tr>\n",
       "      <th>184</th>\n",
       "      <td>subject order prescript ion dru onlin</td>\n",
       "      <td>1</td>\n",
       "      <td>39</td>\n",
       "    </tr>\n",
       "    <tr>\n",
       "      <th>28</th>\n",
       "      <td>subject evergreen deal look comment juli dar...</td>\n",
       "      <td>0</td>\n",
       "      <td>536</td>\n",
       "    </tr>\n",
       "    <tr>\n",
       "      <th>1539</th>\n",
       "      <td>subject mobil beaumont rebecca spoke brian n...</td>\n",
       "      <td>0</td>\n",
       "      <td>253</td>\n",
       "    </tr>\n",
       "  </tbody>\n",
       "</table>\n",
       "</div>"
      ],
      "text/plain": [
       "                                                   mail  status  length\n",
       "262     subject flow month date attach month date fl...       0      54\n",
       "526     subject fyi daren hey sorri call last thur f...       0     215\n",
       "184               subject order prescript ion dru onlin       1      39\n",
       "28      subject evergreen deal look comment juli dar...       0     536\n",
       "1539    subject mobil beaumont rebecca spoke brian n...       0     253"
      ]
     },
     "execution_count": 17,
     "metadata": {},
     "output_type": "execute_result"
    }
   ],
   "source": [
    "train_data['length']=train_data['mail'].apply(len)\n",
    "train_data.head()"
   ]
  },
  {
   "cell_type": "code",
   "execution_count": 18,
   "metadata": {},
   "outputs": [],
   "source": [
    "ham_mail = train_data[train_data['status'] == 0]\n",
    "spam_mail = train_data[train_data['status'] == 1]"
   ]
  },
  {
   "cell_type": "code",
   "execution_count": 19,
   "metadata": {},
   "outputs": [
    {
     "data": {
      "text/html": [
       "<div>\n",
       "<style scoped>\n",
       "    .dataframe tbody tr th:only-of-type {\n",
       "        vertical-align: middle;\n",
       "    }\n",
       "\n",
       "    .dataframe tbody tr th {\n",
       "        vertical-align: top;\n",
       "    }\n",
       "\n",
       "    .dataframe thead th {\n",
       "        text-align: right;\n",
       "    }\n",
       "</style>\n",
       "<table border=\"1\" class=\"dataframe\">\n",
       "  <thead>\n",
       "    <tr style=\"text-align: right;\">\n",
       "      <th></th>\n",
       "      <th>mail</th>\n",
       "      <th>status</th>\n",
       "      <th>length</th>\n",
       "    </tr>\n",
       "  </thead>\n",
       "  <tbody>\n",
       "    <tr>\n",
       "      <th>262</th>\n",
       "      <td>subject flow month date attach month date fl...</td>\n",
       "      <td>0</td>\n",
       "      <td>54</td>\n",
       "    </tr>\n",
       "    <tr>\n",
       "      <th>526</th>\n",
       "      <td>subject fyi daren hey sorri call last thur f...</td>\n",
       "      <td>0</td>\n",
       "      <td>215</td>\n",
       "    </tr>\n",
       "    <tr>\n",
       "      <th>28</th>\n",
       "      <td>subject evergreen deal look comment juli dar...</td>\n",
       "      <td>0</td>\n",
       "      <td>536</td>\n",
       "    </tr>\n",
       "    <tr>\n",
       "      <th>1539</th>\n",
       "      <td>subject mobil beaumont rebecca spoke brian n...</td>\n",
       "      <td>0</td>\n",
       "      <td>253</td>\n",
       "    </tr>\n",
       "    <tr>\n",
       "      <th>1039</th>\n",
       "      <td>subject fuel per mari sitara handl either ca...</td>\n",
       "      <td>0</td>\n",
       "      <td>1231</td>\n",
       "    </tr>\n",
       "  </tbody>\n",
       "</table>\n",
       "</div>"
      ],
      "text/plain": [
       "                                                   mail  status  length\n",
       "262     subject flow month date attach month date fl...       0      54\n",
       "526     subject fyi daren hey sorri call last thur f...       0     215\n",
       "28      subject evergreen deal look comment juli dar...       0     536\n",
       "1539    subject mobil beaumont rebecca spoke brian n...       0     253\n",
       "1039    subject fuel per mari sitara handl either ca...       0    1231"
      ]
     },
     "execution_count": 19,
     "metadata": {},
     "output_type": "execute_result"
    }
   ],
   "source": [
    "ham_mail.head()"
   ]
  },
  {
   "cell_type": "code",
   "execution_count": 20,
   "metadata": {},
   "outputs": [],
   "source": [
    "def top_words(mails):\n",
    "    words = mails['mail'].tolist()\n",
    "    token = [word_tokenize(x) for x in words]\n",
    "    words = reduce(operator.concat,token)\n",
    "    top_words = dict(Counter(words).most_common(20))\n",
    "    return top_words\n",
    "    \n"
   ]
  },
  {
   "cell_type": "code",
   "execution_count": 21,
   "metadata": {},
   "outputs": [
    {
     "data": {
      "image/png": "[encoded data removed]",
      "text/plain": [
       "<Figure size 432x288 with 1 Axes>"
      ]
     },
     "metadata": {
      "needs_background": "light"
     },
     "output_type": "display_data"
    }
   ],
   "source": [
    "ham_top_words = top_words(ham_mail)\n",
    "plt.barh(*zip(*ham_top_words.items()))\n",
    "plt.show()"
   ]
  },
  {
   "cell_type": "code",
   "execution_count": 22,
   "metadata": {},
   "outputs": [
    {
     "data": {
      "image/png": "[encoded data removed]",
      "text/plain": [
       "<Figure size 432x288 with 1 Axes>"
      ]
     },
     "metadata": {
      "needs_background": "light"
     },
     "output_type": "display_data"
    }
   ],
   "source": [
    "spam_top_words = top_words(spam_mail)\n",
    "plt.barh(*zip(*spam_top_words.items()))\n",
    "plt.show()"
   ]
  },
  {
   "cell_type": "code",
   "execution_count": 28,
   "metadata": {},
   "outputs": [
    {
     "data": {
      "text/plain": [
       "count     2468.000000\n",
       "mean       605.987844\n",
       "std        884.796237\n",
       "min         24.000000\n",
       "25%        148.000000\n",
       "50%        317.000000\n",
       "75%        746.250000\n",
       "max      20327.000000\n",
       "Name: length, dtype: float64"
      ]
     },
     "execution_count": 28,
     "metadata": {},
     "output_type": "execute_result"
    }
   ],
   "source": [
    "ham_mail.length.describe()"
   ]
  },
  {
   "cell_type": "code",
   "execution_count": 27,
   "metadata": {},
   "outputs": [
    {
     "data": {
      "text/plain": [
       "<matplotlib.axes._subplots.AxesSubplot at 0x22f11b4ef48>"
      ]
     },
     "execution_count": 27,
     "metadata": {},
     "output_type": "execute_result"
    },
    {
     "data": {
      "image/png": "[encoded data removed]",
      "text/plain": [
       "<Figure size 432x288 with 1 Axes>"
      ]
     },
     "metadata": {
      "needs_background": "light"
     },
     "output_type": "display_data"
    }
   ],
   "source": [
    "ham_mail['length'].plot(bins=50,kind='hist')\n"
   ]
  },
  {
   "cell_type": "code",
   "execution_count": 22,
   "metadata": {},
   "outputs": [
    {
     "data": {
      "text/plain": [
       "count    1020.000000\n",
       "mean      114.623529\n",
       "std       168.116961\n",
       "min         1.000000\n",
       "25%        26.000000\n",
       "50%        56.000000\n",
       "75%       114.000000\n",
       "max      1575.000000\n",
       "Name: length, dtype: float64"
      ]
     },
     "execution_count": 22,
     "metadata": {},
     "output_type": "execute_result"
    }
   ],
   "source": [
    "spam_mail.length.describe()"
   ]
  },
  {
   "cell_type": "code",
   "execution_count": 119,
   "metadata": {},
   "outputs": [
    {
     "data": {
      "text/plain": [
       "<matplotlib.axes._subplots.AxesSubplot at 0x22f17244d48>"
      ]
     },
     "execution_count": 119,
     "metadata": {},
     "output_type": "execute_result"
    },
    {
     "data": {
      "image/png": "[encoded data removed]",
      "text/plain": [
       "<Figure size 432x288 with 1 Axes>"
      ]
     },
     "metadata": {
      "needs_background": "light"
     },
     "output_type": "display_data"
    }
   ],
   "source": [
    "spam_mail['length'].plot(bins=35,kind='hist')"
   ]
  },
  {
   "cell_type": "code",
   "execution_count": 23,
   "metadata": {},
   "outputs": [
    {
     "data": {
      "image/png": "[encoded data removed]",
      "text/plain": [
       "<Figure size 648x432 with 1 Axes>"
      ]
     },
     "metadata": {
      "needs_background": "light"
     },
     "output_type": "display_data"
    }
   ],
   "source": [
    "data = [ham_mail['length'], spam_mail['length']]\n",
    "fig = plt.figure(1, figsize=(9, 6))\n",
    "ax = fig.add_subplot(111)\n",
    "bp = ax.boxplot(data,patch_artist=True)"
   ]
  },
  {
   "cell_type": "code",
   "execution_count": 24,
   "metadata": {},
   "outputs": [
    {
     "data": {
      "text/html": [
       "<div>\n",
       "<style scoped>\n",
       "    .dataframe tbody tr th:only-of-type {\n",
       "        vertical-align: middle;\n",
       "    }\n",
       "\n",
       "    .dataframe tbody tr th {\n",
       "        vertical-align: top;\n",
       "    }\n",
       "\n",
       "    .dataframe thead th {\n",
       "        text-align: right;\n",
       "    }\n",
       "</style>\n",
       "<table border=\"1\" class=\"dataframe\">\n",
       "  <thead>\n",
       "    <tr style=\"text-align: right;\">\n",
       "      <th></th>\n",
       "      <th>mail</th>\n",
       "    </tr>\n",
       "  </thead>\n",
       "  <tbody>\n",
       "    <tr>\n",
       "      <th>262</th>\n",
       "      <td>subject flow month date attach month date fl...</td>\n",
       "    </tr>\n",
       "    <tr>\n",
       "      <th>526</th>\n",
       "      <td>subject fyi daren hey sorri call last thur f...</td>\n",
       "    </tr>\n",
       "    <tr>\n",
       "      <th>184</th>\n",
       "      <td>subject order prescript ion dru onlin</td>\n",
       "    </tr>\n",
       "    <tr>\n",
       "      <th>28</th>\n",
       "      <td>subject evergreen deal look comment juli dar...</td>\n",
       "    </tr>\n",
       "    <tr>\n",
       "      <th>1539</th>\n",
       "      <td>subject mobil beaumont rebecca spoke brian n...</td>\n",
       "    </tr>\n",
       "  </tbody>\n",
       "</table>\n",
       "</div>"
      ],
      "text/plain": [
       "                                                   mail\n",
       "262     subject flow month date attach month date fl...\n",
       "526     subject fyi daren hey sorri call last thur f...\n",
       "184               subject order prescript ion dru onlin\n",
       "28      subject evergreen deal look comment juli dar...\n",
       "1539    subject mobil beaumont rebecca spoke brian n..."
      ]
     },
     "execution_count": 24,
     "metadata": {},
     "output_type": "execute_result"
    }
   ],
   "source": [
    "mail_train = mail_train.to_frame()\n",
    "status_train = status_train.to_frame()\n",
    "mail_test = mail_test.to_frame()\n",
    "status_test = status_test.to_frame()\n",
    "mail_train.head()"
   ]
  },
  {
   "cell_type": "code",
   "execution_count": 25,
   "metadata": {},
   "outputs": [
    {
     "name": "stdout",
     "output_type": "stream",
     "text": [
      "1499\n",
      "1499\n"
     ]
    }
   ],
   "source": [
    "mail_train.shape\n",
    "last = 3495 - 2796\n",
    "last\n",
    "print(len(status_test))\n",
    "print(len(mail_test))"
   ]
  },
  {
   "cell_type": "code",
   "execution_count": null,
   "metadata": {},
   "outputs": [],
   "source": [
    "training_set_mail = mail_train[:2796]\n",
    "training_set_status = status_train[:2796]\n",
    "validation_set_mail = mail_train[-699:]\n",
    "validation_set_status = status_train[-699:]"
   ]
  },
  {
   "cell_type": "code",
   "execution_count": 36,
   "metadata": {},
   "outputs": [
    {
     "name": "stdout",
     "output_type": "stream",
     "text": [
      "2796 2796 699 699\n",
      "<class 'pandas.core.frame.DataFrame'>\n",
      "<class 'pandas.core.frame.DataFrame'>\n",
      "<class 'pandas.core.frame.DataFrame'>\n",
      "<class 'pandas.core.frame.DataFrame'>\n",
      "<class 'pandas.core.frame.DataFrame'>\n"
     ]
    }
   ],
   "source": [
    "print(len(training_set_mail),len(training_set_status),len(validation_set_mail),len(validation_set_status))"
   ]
  },
  {
   "cell_type": "code",
   "execution_count": 27,
   "metadata": {},
   "outputs": [],
   "source": [
    "\n",
    "tfvec = TfidfVectorizer()\n",
    "tfidf_training = tfvec.fit_transform(training_set_mail['mail'])\n",
    "tfidf_validation = tfvec.transform(validation_set_mail['mail'])\n",
    "tfidf_test = tfvec.transform(mail_test['mail'])"
   ]
  },
  {
   "cell_type": "code",
   "execution_count": 40,
   "metadata": {},
   "outputs": [],
   "source": [
    "def model_execution(model,hyperParameter,tfidf_training,training_set_status,tfidf_validation):\n",
    "    classifier_tuned = RandomizedSearchCV(model,hyperParameter)\n",
    "    classifier_tuned.fit(tfidf_training, training_set_status.values.ravel())\n",
    "    pred = classifier_tuned.predict(tfidf_validation)\n",
    "    return pred"
   ]
  },
  {
   "cell_type": "code",
   "execution_count": null,
   "metadata": {},
   "outputs": [],
   "source": [
    "def model_evaluation(validation_set,pred):\n",
    "    print(confusion_matrix(validation_set,pred))\n",
    "    accuracy =accuracy_score(validation_set,pred)\n",
    "    return(accuracy)"
   ]
  },
  {
   "cell_type": "code",
   "execution_count": null,
   "metadata": {},
   "outputs": [],
   "source": [
    "def metric(validation_set_status,pred):\n",
    "    print('Mean Absolute Error:', metrics.mean_absolute_error(validation_set_status,pred))\n",
    "    print('Mean Squared Error:', metrics.mean_squared_error(validation_set_status,pred))\n",
    "    print('Root Mean Squared Error:', np.sqrt(metrics.mean_squared_error(validation_set_status,pred)))"
   ]
  },
  {
   "cell_type": "code",
   "execution_count": null,
   "metadata": {},
   "outputs": [],
   "source": [
    "import pickle\n",
    "def save_model_to_disk(model,filename):\n",
    "    #filename = 'finalized_model.sav'\n",
    "    pickle.dump(model, open(filename, 'wb'))"
   ]
  },
  {
   "cell_type": "code",
   "execution_count": 32,
   "metadata": {},
   "outputs": [
    {
     "name": "stdout",
     "output_type": "stream",
     "text": [
      "[[492   6]\n",
      " [ 11 190]]\n",
      "0.9756795422031473\n"
     ]
    }
   ],
   "source": [
    "\n",
    "hyperParameter = {'alpha': np.linspace(0.5, 1.5, 6),'fit_prior': [True, False]}\n",
    "model = MultinomialNB()\n",
    "classifierMNB_tuned = RandomizedSearchCV(model, hyperParameter)\n",
    "classifierMNB_tuned.fit(tfidf_training, training_set_status.values.ravel())\n",
    "pred = classifierMNB_tuned.predict(tfidf_validation)\n",
    "#print(classification_report(status_train ,pred ))\n",
    "print(confusion_matrix(validation_set_status,pred))\n",
    "print(accuracy_score(validation_set_status,pred))\n"
   ]
  },
  {
   "cell_type": "code",
   "execution_count": 31,
   "metadata": {},
   "outputs": [
    {
     "name": "stdout",
     "output_type": "stream",
     "text": [
      "[[488  10]\n",
      " [  1 200]]\n",
      "0.9842632331902719\n"
     ]
    }
   ],
   "source": [
    "from scipy.stats import reciprocal, uniform\n",
    "hyperParameter = {'C': uniform(1, 10),  \n",
    "              'gamma': reciprocal(0.001, 0.1), \n",
    "              'kernel': ['rbf'],\n",
    "                 'shrinking': [True,False],\n",
    "                 'probability':[True,False],\n",
    "                 'degree':[2,3,4]}\n",
    "model = SVC()\n",
    "classifierSVC_tuned = RandomizedSearchCV(model, hyperParameter)\n",
    "classifierSVC_tuned.fit(tfidf_training, training_set_status.values.ravel())\n",
    "pred = classifierSVC_tuned.predict(tfidf_validation)\n",
    "#print(classification_report(status_train ,pred ))\n",
    "print(confusion_matrix(validation_set_status,pred))\n",
    "print(accuracy_score(validation_set_status,pred))"
   ]
  },
  {
   "cell_type": "code",
   "execution_count": 151,
   "metadata": {},
   "outputs": [
    {
     "name": "stdout",
     "output_type": "stream",
     "text": [
      "[[469  12]\n",
      " [  5 213]]\n",
      "0.9756795422031473\n"
     ]
    }
   ],
   "source": [
    "RF default"
   ]
  },
  {
   "cell_type": "code",
   "execution_count": 33,
   "metadata": {},
   "outputs": [
    {
     "name": "stdout",
     "output_type": "stream",
     "text": [
      "[[489   9]\n",
      " [  8 193]]\n",
      "0.9756795422031473\n"
     ]
    }
   ],
   "source": [
    "hyperParameter = {'bootstrap': [True, False],\n",
    " 'max_depth': [10, 20,None],\n",
    " 'max_features': ['auto', 'sqrt'],\n",
    " 'min_samples_leaf': [2, 4],\n",
    " 'min_samples_split': [5, 10],\n",
    " 'n_estimators': [200, 400, 600]}\n",
    "model = RandomForestClassifier()\n",
    "classifierRF_tuned = RandomizedSearchCV(model,hyperParameter)\n",
    "classifierRF_tuned.fit(tfidf_training, training_set_status.values.ravel())\n",
    "pred = classifierRF_tuned.predict(tfidf_validation)\n",
    "#print(classification_report(status_train ,pred ))\n",
    "print(confusion_matrix(validation_set_status,pred))\n",
    "print(accuracy_score(validation_set_status,pred))"
   ]
  },
  {
   "cell_type": "code",
   "execution_count": 37,
   "metadata": {},
   "outputs": [],
   "source": [
    "hyperParameter = {\"max_depth\": np.linspace(1, 32, 32, endpoint=True),\n",
    "                  \"min_samples_split\": np.linspace(0.1, 1.0, 5, endpoint=True),\n",
    "              \"max_features\": list(range(1,100))\n",
    "              }\n",
    "model = DecisionTreeClassifier()\n",
    "pred_DT = model_execution(model,hyperParameter,tfidf_training,training_set_status,tfidf_validation)"
   ]
  },
  {
   "cell_type": "code",
   "execution_count": 39,
   "metadata": {},
   "outputs": [
    {
     "name": "stdout",
     "output_type": "stream",
     "text": [
      "[[380 118]\n",
      " [ 13 188]]\n",
      "0.8125894134477826\n"
     ]
    }
   ],
   "source": [
    "model_evaluation(validation_set_status,pred_DT)"
   ]
  },
  {
   "cell_type": "code",
   "execution_count": 30,
   "metadata": {},
   "outputs": [
    {
     "name": "stdout",
     "output_type": "stream",
     "text": [
      "[[484  14]\n",
      " [156  45]]\n",
      "0.7567954220314735\n"
     ]
    }
   ],
   "source": [
    "hyperParameter = {\"max_depth\": np.linspace(1, 32, 32, endpoint=True),\n",
    "                  \"min_samples_split\": np.linspace(0.1, 1.0, 5, endpoint=True),\n",
    "              \"max_features\": list(range(1,100))\n",
    "              }\n",
    "model = DecisionTreeClassifier()\n",
    "#print(model.get_params().keys())\n",
    "classifierDT_tuned = RandomizedSearchCV(model,hyperParameter)\n",
    "classifierDT_tuned.fit(tfidf_training, training_set_status)\n",
    "pred = classifierDT_tuned.predict(tfidf_validation)\n",
    "#print(classification_report(status_train ,pred ))\n",
    "print(confusion_matrix(validation_set_status,pred))\n",
    "print(accuracy_score(validation_set_status,pred))\n"
   ]
  },
  {
   "cell_type": "code",
   "execution_count": 224,
   "metadata": {},
   "outputs": [
    {
     "name": "stdout",
     "output_type": "stream",
     "text": [
      "Mean Absolute Error: 0.20314735336194564\n",
      "Mean Squared Error: 0.20314735336194564\n",
      "Root Mean Squared Error: 0.4507187075792901\n"
     ]
    }
   ],
   "source": [
    "metric(validation_set_status,pred)"
   ]
  },
  {
   "cell_type": "code",
   "execution_count": 225,
   "metadata": {},
   "outputs": [
    {
     "name": "stdout",
     "output_type": "stream",
     "text": [
      "[[1048   15]\n",
      " [   6  430]]\n",
      "0.9859906604402935\n"
     ]
    }
   ],
   "source": [
    "pred = classifierSVC_tuned.predict(tfidf_test)\n",
    "#print(classification_report(status_train ,pred ))\n",
    "print(confusion_matrix(status_test,pred))\n",
    "print(accuracy_score(status_test,pred))"
   ]
  },
  {
   "cell_type": "code",
   "execution_count": null,
   "metadata": {},
   "outputs": [],
   "source": []
  }
 ],
 "metadata": {
  "kernelspec": {
   "display_name": "Python 3",
   "language": "python",
   "name": "python3"
  },
  "language_info": {
   "codemirror_mode": {
    "name": "ipython",
    "version": 3
   },
   "file_extension": ".py",
   "mimetype": "text/x-python",
   "name": "python",
   "nbconvert_exporter": "python",
   "pygments_lexer": "ipython3",
   "version": "3.7.4"
  }
 },
 "nbformat": 4,
 "nbformat_minor": 4
}
